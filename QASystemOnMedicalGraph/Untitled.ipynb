{
 "cells": [
  {
   "cell_type": "code",
   "execution_count": 7,
   "id": "b3e0cfec",
   "metadata": {},
   "outputs": [],
   "source": [
    "test = ['test', 'test1', 'test2', 'test3']\n",
    "users = ['api.user_timeline(screen_name = {0}, count = 10, wait_on_rate_limit = True)'.format(user) for user in test]"
   ]
  },
  {
   "cell_type": "code",
   "execution_count": 8,
   "id": "1628ea68",
   "metadata": {},
   "outputs": [
    {
     "data": {
      "text/plain": [
       "['api.user_timeline(screen_name = test, count = 10, wait_on_rate_limit = True)',\n",
       " 'api.user_timeline(screen_name = test1, count = 10, wait_on_rate_limit = True)',\n",
       " 'api.user_timeline(screen_name = test2, count = 10, wait_on_rate_limit = True)',\n",
       " 'api.user_timeline(screen_name = test3, count = 10, wait_on_rate_limit = True)']"
      ]
     },
     "execution_count": 8,
     "metadata": {},
     "output_type": "execute_result"
    }
   ],
   "source": [
    "users"
   ]
  },
  {
   "cell_type": "code",
   "execution_count": 9,
   "id": "67f00af4",
   "metadata": {},
   "outputs": [
    {
     "ename": "SyntaxError",
     "evalue": "invalid syntax (1557345381.py, line 1)",
     "output_type": "error",
     "traceback": [
      "\u001b[0;36m  Cell \u001b[0;32mIn [9], line 1\u001b[0;36m\u001b[0m\n\u001b[0;31m    'api.user_timeline(screen_name = {0}, count = 10, wait_on_rate_limit = True)'.format(user) for user in test\u001b[0m\n\u001b[0m                                                                                               ^\u001b[0m\n\u001b[0;31mSyntaxError\u001b[0m\u001b[0;31m:\u001b[0m invalid syntax\n"
     ]
    }
   ],
   "source": [
    "'api.user_timeline(screen_name = {0}, count = 10, wait_on_rate_limit = True)'.format(user) for user in test"
   ]
  },
  {
   "cell_type": "code",
   "execution_count": 10,
   "id": "e5e075de",
   "metadata": {},
   "outputs": [
    {
     "data": {
      "text/plain": [
       "[\"MATCH (d:Disease)-[:HAS_DRUG]->(n) WHERE d.name='test' return d.name,d.treatment,n.name\",\n",
       " \"MATCH (d:Disease)-[:HAS_DRUG]->(n) WHERE d.name='test1' return d.name,d.treatment,n.name\",\n",
       " \"MATCH (d:Disease)-[:HAS_DRUG]->(n) WHERE d.name='test2' return d.name,d.treatment,n.name\",\n",
       " \"MATCH (d:Disease)-[:HAS_DRUG]->(n) WHERE d.name='test3' return d.name,d.treatment,n.name\"]"
      ]
     },
     "execution_count": 10,
     "metadata": {},
     "output_type": "execute_result"
    }
   ],
   "source": [
    "[\"MATCH (d:Disease)-[:HAS_DRUG]->(n) WHERE d.name='{0}' return d.name,d.treatment,\" \\\n",
    "                   \"n.name\".format(e) for e in ['test', 'test1', 'test2', 'test3']]"
   ]
  },
  {
   "cell_type": "code",
   "execution_count": null,
   "id": "2333095a",
   "metadata": {},
   "outputs": [],
   "source": []
  }
 ],
 "metadata": {
  "kernelspec": {
   "display_name": "Python 3 (ipykernel)",
   "language": "python",
   "name": "python3"
  },
  "language_info": {
   "codemirror_mode": {
    "name": "ipython",
    "version": 3
   },
   "file_extension": ".py",
   "mimetype": "text/x-python",
   "name": "python",
   "nbconvert_exporter": "python",
   "pygments_lexer": "ipython3",
   "version": "3.9.13"
  }
 },
 "nbformat": 4,
 "nbformat_minor": 5
}
